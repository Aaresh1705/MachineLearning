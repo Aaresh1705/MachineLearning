{
 "cells": [
  {
   "metadata": {},
   "cell_type": "code",
   "outputs": [],
   "execution_count": null,
   "source": [
    "import numpy as np\n",
    "import matplotlib.pyplot as plt\n",
    "\n",
    "from relu import Relu"
   ],
   "id": "1d87274cca225cf4"
  },
  {
   "metadata": {},
   "cell_type": "code",
   "outputs": [],
   "execution_count": null,
   "source": [
    "x = np.linspace(-1, 1, 100)\n",
    "function = Relu()\n",
    "y = function(x)\n",
    "\n",
    "plt.plot(x, y, label=function.latex())\n",
    "plt.grid(True)\n",
    "plt.legend(fontsize=16)\n",
    "plt.title(\"Activation Function\")\n",
    "plt.xlabel(\"Input\")\n",
    "plt.ylabel(\"Output\")\n",
    "plt.show()"
   ],
   "id": "18a7d0d60095b773"
  },
  {
   "metadata": {},
   "cell_type": "code",
   "outputs": [],
   "execution_count": null,
   "source": "",
   "id": "2c3ba31e741846a7"
  }
 ],
 "metadata": {},
 "nbformat": 5,
 "nbformat_minor": 9
}
