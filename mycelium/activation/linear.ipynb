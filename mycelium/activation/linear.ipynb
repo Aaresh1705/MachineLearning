{
 "cells": [
  {
   "metadata": {},
   "cell_type": "code",
   "outputs": [],
   "execution_count": null,
   "source": [
    "import numpy as np\n",
    "import matplotlib.pyplot as plt\n",
    "\n",
    "from linear import Linear"
   ],
   "id": "8242efa81c8a84cb"
  },
  {
   "metadata": {},
   "cell_type": "code",
   "outputs": [],
   "execution_count": null,
   "source": [
    "x = np.linspace(-1, 1, 100)\n",
    "function = Linear()\n",
    "y = function(x)\n",
    "\n",
    "plt.plot(x, y, label=function.latex())\n",
    "plt.grid(True)\n",
    "plt.legend(fontsize=16)\n",
    "plt.title(\"Activation Function\")\n",
    "plt.xlabel(\"Input\")\n",
    "plt.ylabel(\"Output\")\n",
    "plt.show()"
   ],
   "id": "ac85cb3cc260c57b"
  },
  {
   "metadata": {},
   "cell_type": "code",
   "outputs": [],
   "execution_count": null,
   "source": "",
   "id": "e13e0584cc145c74"
  }
 ],
 "metadata": {},
 "nbformat": 5,
 "nbformat_minor": 9
}
