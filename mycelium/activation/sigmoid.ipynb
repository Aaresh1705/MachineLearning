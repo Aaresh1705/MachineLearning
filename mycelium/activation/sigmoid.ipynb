{
 "cells": [
  {
   "metadata": {},
   "cell_type": "code",
   "outputs": [],
   "execution_count": null,
   "source": [
    "import numpy as np\n",
    "import matplotlib.pyplot as plt\n",
    "\n",
    "from sigmoid import Sigmoid"
   ],
   "id": "dc0f7be3ea50181d"
  },
  {
   "metadata": {},
   "cell_type": "code",
   "outputs": [],
   "execution_count": null,
   "source": [
    "x = np.linspace(-10, 10, 100)\n",
    "function = Sigmoid()\n",
    "y = function(x)\n",
    "\n",
    "plt.plot(x, y, label=function.latex())\n",
    "plt.grid(True)\n",
    "plt.legend(fontsize=16)\n",
    "plt.xlabel(\"Input\")\n",
    "plt.ylabel(\"Output\")\n",
    "plt.show()"
   ],
   "id": "a51ee7c83caf87d7"
  },
  {
   "metadata": {},
   "cell_type": "code",
   "outputs": [],
   "execution_count": null,
   "source": "",
   "id": "ccc6b41f61093396"
  }
 ],
 "metadata": {},
 "nbformat": 5,
 "nbformat_minor": 9
}
