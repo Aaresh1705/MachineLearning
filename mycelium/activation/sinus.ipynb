{
 "cells": [
  {
   "metadata": {},
   "cell_type": "code",
   "outputs": [],
   "execution_count": null,
   "source": [
    "import numpy as np\n",
    "import matplotlib.pyplot as plt\n",
    "\n",
    "from sinus import Sin"
   ],
   "id": "8bd5269fa967701"
  },
  {
   "metadata": {},
   "cell_type": "code",
   "outputs": [],
   "execution_count": null,
   "source": [
    "x = np.linspace(-2*np.pi, 2*np.pi, 100)\n",
    "function = Sin()\n",
    "y = function(x)\n",
    "\n",
    "plt.plot(x, y, label=function.latex())\n",
    "plt.grid(True)\n",
    "plt.legend(fontsize=16)\n",
    "plt.title(\"Activation Function\")\n",
    "plt.xlabel(\"Input\")\n",
    "plt.ylabel(\"Output\")\n",
    "plt.show()"
   ],
   "id": "44ab5a86ead2c056"
  },
  {
   "metadata": {},
   "cell_type": "code",
   "outputs": [],
   "execution_count": null,
   "source": "",
   "id": "dc3163b75792578f"
  }
 ],
 "metadata": {},
 "nbformat": 5,
 "nbformat_minor": 9
}
